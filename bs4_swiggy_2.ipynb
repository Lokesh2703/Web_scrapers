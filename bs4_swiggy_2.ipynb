{
 "cells": [
  {
   "cell_type": "code",
   "execution_count": 1,
   "metadata": {},
   "outputs": [],
   "source": [
    "import bs4\n",
    "\n",
    "import openpyxl as xl\n",
    "\n",
    "import requests as req\n",
    "\n",
    "from urllib.request import urlopen"
   ]
  },
  {
   "cell_type": "code",
   "execution_count": 2,
   "metadata": {},
   "outputs": [
    {
     "data": {
      "text/plain": [
       "<Worksheet \"Sheet\">"
      ]
     },
     "execution_count": 2,
     "metadata": {},
     "output_type": "execute_result"
    }
   ],
   "source": [
    "xlbook=xl.Workbook()\n",
    "xlsheet=xlbook.active\n",
    "xlbook.active"
   ]
  },
  {
   "cell_type": "code",
   "execution_count": 3,
   "metadata": {},
   "outputs": [],
   "source": [
    "xlsheet.cell(row=1,column=1).value=\"Slno.\"\n",
    "xlsheet.cell(row=1,column=2).value=\"link\"\n",
    "xlsheet.cell(row=1,column=3).value=\"Name of Restaurant\"\n",
    "xlsheet.cell(row=1,column=4).value=\"Type of Dish\"\n",
    "xlsheet.cell(row=1,column=5).value=\"ratings\"\n",
    "xlsheet.cell(row=1,column=6).value=\"Time Required\"\n",
    "xlsheet.cell(row=1,column=7).value=\"Average Cost\""
   ]
  },
  {
   "cell_type": "code",
   "execution_count": 4,
   "metadata": {},
   "outputs": [],
   "source": [
    "c1=2\n",
    "c2=2\n",
    "c3=2\n",
    "c4=2\n",
    "c5=2\n",
    "c6=2\n",
    "c7=2\n",
    "i=1"
   ]
  },
  {
   "cell_type": "code",
   "execution_count": 6,
   "metadata": {},
   "outputs": [
    {
     "name": "stdout",
     "output_type": "stream",
     "text": [
      "1\n",
      "2\n",
      "3\n",
      "4\n",
      "5\n",
      "6\n",
      "error for ratings!-6list index out of range\n",
      "7\n",
      "error for ratings!-7list index out of range\n",
      "8\n",
      "error for ratings!-8list index out of range\n",
      "error for time!-8list index out of range\n",
      "9\n",
      "error for ratings!-9list index out of range\n",
      "error for time!-9list index out of range\n",
      "10\n",
      "error for ratings!-10list index out of range\n",
      "error for time!-10list index out of range\n",
      "11\n",
      "error for ratings!-11list index out of range\n",
      "error for time!-11list index out of range\n",
      "12\n",
      "error for ratings!-12list index out of range\n",
      "error for time!-12list index out of range\n",
      "13\n",
      "error for ratings!-13list index out of range\n",
      "error for time!-13list index out of range\n"
     ]
    }
   ],
   "source": [
    "for pages in range(1,14):\n",
    "    my_url=\"https://www.swiggy.com/chennai/top-rated-collection?page=\"\n",
    "    uClient=req.get(my_url+str(pages))\n",
    "    page_soup=bs4.BeautifulSoup(uClient.text,\"html.parser\")\n",
    "    print(str(pages))\n",
    "    col=page_soup.findAll(\"h1\")\n",
    "    col2=page_soup.find_all(\"div\",{\"class\" : \"_3XX_A\"})\n",
    "    xlsheet.cell(row=1,column=2).value=\"link\"\n",
    "    try:\n",
    "        for item in col2:\n",
    "            xlsheet.cell(row=c2,column=2).value=\"https://www.swiggy.com\"+item.a.attrs[\"href\"]\n",
    "            c2=c2+1\n",
    "    except Exception as e:\n",
    "        print('error for indices!-' + str(pages) + str(e))\n",
    "    try:\n",
    "        for item in col2:\n",
    "            xlsheet.cell(row=c1,column=1).value=c1-1\n",
    "            c1=c1+1\n",
    "    except Exception as e:\n",
    "        print('error for links!-' + str(pages) + str(e))\n",
    "    try:\n",
    "        imgs=page_soup.findAll(\"div\",{\"class\" : \"nA6kb\"})\n",
    "        for item in imgs:\n",
    "            xlsheet.cell(row=c3,column=3).value=item.text\n",
    "            c3=c3+1\n",
    "    except Exception as e:\n",
    "        print('error for img-src!-' + str(pages) + str(e))\n",
    "    try:\n",
    "        dishtype=page_soup.findAll(\"div\",{\"class\" : \"_1gURR\"})\n",
    "        for item in dishtype:\n",
    "            xlsheet.cell(row=c4,column=4).value=item.text\n",
    "            c4=c4+1\n",
    "    except Exception as e:\n",
    "        print('error for dishtype!-' + str(pages) + str(e))\n",
    "    try:\n",
    "        ratings=page_soup.findAll(\"div\",{\"class\" : \"_9uwBC wY0my\"})\n",
    "        rating=ratings[0].findAll(\"span\")\n",
    "        xlsheet.cell(row=1,column=5).value=\"ratings\"\n",
    "        for item in ratings:\n",
    "            xlsheet.cell(row=c5,column=5).value=rating[1].text\n",
    "            c5=c5+1\n",
    "    except Exception as e:\n",
    "        print('error for ratings!-' + str(pages) + str(e))\n",
    "    try:\n",
    "        time=page_soup.findAll(\"div\",{\"class\" : \"_3Mn31\"})\n",
    "        time_req=time[0].findAll(\"div\")\n",
    "        for item in time:\n",
    "            time_req=item.findAll(\"div\")\n",
    "            xlsheet.cell(row=c6,column=6).value=time_req[2].text\n",
    "            c6=c6+1\n",
    "    except Exception as e:\n",
    "        print('error for time!-' + str(pages) + str(e))\n",
    "    try:\n",
    "        for item in time:\n",
    "            time_req=item.findAll(\"div\")\n",
    "            xlsheet.cell(row=c7,column=7).value=time_req[4].text\n",
    "            c7=c7+1\n",
    "    except Exception as e:\n",
    "        print('error for min. cost!-' + str(pages) + str(e))"
   ]
  },
  {
   "cell_type": "code",
   "execution_count": 8,
   "metadata": {},
   "outputs": [],
   "source": [
    "xlbook.save('swiggy4.xlsx')"
   ]
  },
  {
   "cell_type": "code",
   "execution_count": null,
   "metadata": {},
   "outputs": [],
   "source": []
  }
 ],
 "metadata": {
  "kernelspec": {
   "display_name": "Python 3",
   "language": "python",
   "name": "python3"
  },
  "language_info": {
   "codemirror_mode": {
    "name": "ipython",
    "version": 3
   },
   "file_extension": ".py",
   "mimetype": "text/x-python",
   "name": "python",
   "nbconvert_exporter": "python",
   "pygments_lexer": "ipython3",
   "version": "3.7.3"
  }
 },
 "nbformat": 4,
 "nbformat_minor": 2
}
